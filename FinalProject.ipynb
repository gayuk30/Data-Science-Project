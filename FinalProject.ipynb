{
  "nbformat": 4,
  "nbformat_minor": 0,
  "metadata": {
    "colab": {
      "provenance": []
    },
    "kernelspec": {
      "name": "python3",
      "display_name": "Python 3"
    },
    "language_info": {
      "name": "python"
    }
  },
  "cells": [
    {
      "cell_type": "markdown",
      "source": [
        "# Final Project\n",
        "\n",
        "For the following project, you will be working with a movie dataset. The dataset is [here](https://drive.google.com/file/d/1UKHLb2KHc-sHmPcCKuidu_zqr-olgJeX/view?usp=drive_link). The dataset columns are as follows:\n",
        "\n",
        "* Title: The movie's title\n",
        "* Genre: The movie's genre\n",
        "* Stars: The number of famous actors in the movie\n",
        "* Runtime: The length of the movie's runtime\n",
        "* Budget: How much was spent on filming the movie\n",
        "* Promo: How much money was spent promoting the movie\n",
        "* Season: The season in which the movie was released\n",
        "* Rating: The movie's rating\n",
        "* R1: Reviewer 1's review\n",
        "* R1: Reviewer 2's review\n",
        "* R1: Reviewer 3's review\n",
        "\n",
        "And the target variable:\n",
        "\n",
        "* Success: Whether the film was a success or a flop\n",
        "\n",
        "Fill in the answers to questions in the text field, and show your code below."
      ],
      "metadata": {
        "id": "y2MZurcV4Dqo"
      }
    },
    {
      "cell_type": "markdown",
      "source": [
        "# Data loading\n",
        "\n",
        "Load the data"
      ],
      "metadata": {
        "id": "pMd--NtS6UYo"
      }
    },
    {
      "cell_type": "code",
      "execution_count": 190,
      "metadata": {
        "id": "pPlRDp5R1Di5",
        "colab": {
          "base_uri": "https://localhost:8080/"
        },
        "outputId": "4cb64a6e-f4dc-4496-b2bb-930ff210f58e"
      },
      "outputs": [
        {
          "output_type": "stream",
          "name": "stdout",
          "text": [
            "Drive already mounted at /content/drive; to attempt to forcibly remount, call drive.mount(\"/content/drive\", force_remount=True).\n"
          ]
        },
        {
          "output_type": "execute_result",
          "data": {
            "text/plain": [
              "['Unnamed: 0',\n",
              " 'Title',\n",
              " 'Runtime',\n",
              " 'Stars',\n",
              " 'Year',\n",
              " 'Budget',\n",
              " 'Promo',\n",
              " 'Season',\n",
              " 'Rating',\n",
              " 'Genre',\n",
              " 'R1',\n",
              " 'R2',\n",
              " 'R3',\n",
              " 'Success']"
            ]
          },
          "metadata": {},
          "execution_count": 190
        }
      ],
      "source": [
        "from google.colab import drive\n",
        "drive.mount('/content/drive')\n",
        "import pandas as pd\n",
        "file_path = '/content/drive/My Drive/CMSC320/CMSC320FinalProjectData.csv'\n",
        "movie_data = pd.read_csv(file_path)\n",
        "# Listing all column names in the cleaned dataset\n",
        "column_names = movie_data.columns.tolist()\n",
        "column_names\n"
      ]
    },
    {
      "cell_type": "markdown",
      "source": [
        "# Data Cleaning\n",
        "\n",
        "List the three biggest data errors below, with a summary of how you fixed them and why you choose that method:\n",
        "\n",
        "\n",
        "*\n",
        "*\n",
        "*"
      ],
      "metadata": {
        "id": "yH21qcym6a03"
      }
    },
    {
      "cell_type": "markdown",
      "source": [
        "1. Zero Runtime: There are 17 entries with zero runtime values. Movies should have a positive runtime, so these entries are likely data errors. They should either be corrected with the right values if available, or these records should be excluded from analyses where runtime is a critical factor. In this case, I am going to replace them with the median,\n",
        "2. Outliers in Stars Column: The Stars column, representing the number of famous actors, has a maximum value of 100, which is unrealistic for a single movie so its likely to be a mistake. So, its best to cap the number of stars at a more realistic number (e.g.the median).\n",
        "3. Budget column values: Identify and Remove Outliers: Remove entries where the budget is over 350 (assuming the budget values are in millions or another consistent unit). For each entry with a removed budget, find the mean budget of movies in the same genre and within ±1 year range.\n",
        "Replace the missing budget values with this calculated mean."
      ],
      "metadata": {
        "id": "Q-eJOBqyXXRm"
      }
    },
    {
      "cell_type": "code",
      "source": [
        "\n",
        "# Solution for Runtime issue\n",
        "median_runtime = movie_data[movie_data['Runtime'] > 0]['Runtime'].median()\n",
        "movie_data['Runtime'].replace(0, median_runtime, inplace=True)\n",
        "\n",
        "# Solution for Stars issue\n",
        "median_stars = movie_data['Stars'].median()\n",
        "movie_data['Stars'].replace(100, median_stars, inplace=True)\n",
        "\n",
        "# Solution for Budget issue\n",
        "\n",
        "# Identifying outliers in the Budget column\n",
        "outlier_threshold = 350\n",
        "outliers = movie_data['Budget'] > outlier_threshold\n",
        "\n",
        "# Function to find the mean budget based on genre and year (±1 year)\n",
        "def impute_budget(row):\n",
        "    genre = row['Genre']\n",
        "    year = row['Year']\n",
        "    similar_movies = movie_data[\n",
        "        (movie_data['Genre'] == genre) &\n",
        "        (movie_data['Year'] >= year - 1) &\n",
        "        (movie_data['Year'] <= year + 1) &\n",
        "        (movie_data['Budget'] <= outlier_threshold)\n",
        "    ]\n",
        "    if similar_movies.empty:\n",
        "        return row['Budget']  # Return the original budget if no similar movies are found\n",
        "    else:\n",
        "        return similar_movies['Budget'].mean()\n",
        "\n",
        "# Apply the function to the rows with budget outliers\n",
        "movie_data.loc[outliers, 'Budget'] = movie_data[outliers].apply(impute_budget, axis=1)\n",
        "\n",
        "# Check the changes in the budget column\n",
        "budget_after_imputation = movie_data['Budget'].describe()\n",
        "budget_after_imputation\n",
        "\n"
      ],
      "metadata": {
        "id": "bNLnmnpV4DUY",
        "colab": {
          "base_uri": "https://localhost:8080/"
        },
        "outputId": "b5f9c6cc-7996-4a6c-8fae-e0441ba9b5d0"
      },
      "execution_count": 191,
      "outputs": [
        {
          "output_type": "execute_result",
          "data": {
            "text/plain": [
              "count    540.000000\n",
              "mean      87.305145\n",
              "std       44.396719\n",
              "min       21.750323\n",
              "25%       54.748463\n",
              "50%       80.070423\n",
              "75%      104.500490\n",
              "max      327.415463\n",
              "Name: Budget, dtype: float64"
            ]
          },
          "metadata": {},
          "execution_count": 191
        }
      ]
    },
    {
      "cell_type": "markdown",
      "source": [
        "# Data Exploration\n",
        "\n",
        "\n",
        "\n"
      ],
      "metadata": {
        "id": "dHokHRPI66lw"
      }
    },
    {
      "cell_type": "markdown",
      "source": [
        "Does Season have a stastically significant impact on a movie's success?\n",
        "\n",
        "**p-value:**\n",
        "The p-value obtained from the Chi-Squared test for the relationship between 'Season' and a movie's 'Success' is approximately 0.0057. This value is typically compared against a significance level (commonly 0.05) to determine statistical significance.\n",
        "\n",
        "In this case, since the p-value is less than 0.05, it suggests that there is a statistically significant association between the season in which a movie is released and its success. This means that the season could have an impact on the success of a movie."
      ],
      "metadata": {
        "id": "OHbNovM57Lj7"
      }
    },
    {
      "cell_type": "code",
      "source": [
        "\n",
        "from scipy.stats import chi2_contingency\n",
        "contingency_table = pd.crosstab(movie_data['Season'], movie_data['Success'])\n",
        "# Conducting the Chi-Squared test\n",
        "chi2, p_value, _, _ = chi2_contingency(contingency_table)\n",
        "p_value\n"
      ],
      "metadata": {
        "id": "XGZlyOBW65-B",
        "colab": {
          "base_uri": "https://localhost:8080/"
        },
        "outputId": "e8c55400-ee86-4698-cc99-847a894e5b5a"
      },
      "execution_count": 192,
      "outputs": [
        {
          "output_type": "execute_result",
          "data": {
            "text/plain": [
              "0.005716268505111858"
            ]
          },
          "metadata": {},
          "execution_count": 192
        }
      ]
    },
    {
      "cell_type": "markdown",
      "source": [],
      "metadata": {
        "id": "MQ0zKRsAd2vi"
      }
    },
    {
      "cell_type": "markdown",
      "source": [
        "Do seasons have a statistically significant distribution of ratings?\n",
        "\n",
        "**p-value:**\n",
        "The p-value obtained from the Chi-Squared test for the relationship between 'Season' and 'Rating' is approximately 0.215. This value is greater than the common significance level of 0.05, suggesting that there is no statistically significant association between the season in which a movie is released and its rating. This means that the distribution of movie ratings does not significantly vary across different seasons."
      ],
      "metadata": {
        "id": "OM6_URSkBXDz"
      }
    },
    {
      "cell_type": "code",
      "source": [
        "contingency_table_rating = pd.crosstab(movie_data['Season'], movie_data['Rating'])\n",
        "# Conducting the Chi-Squared test for Season and Rating\n",
        "chi2_rating, p_value_rating, _, _ = chi2_contingency(contingency_table_rating)\n",
        "p_value_rating\n"
      ],
      "metadata": {
        "id": "GtSbRZxOBeXC",
        "colab": {
          "base_uri": "https://localhost:8080/"
        },
        "outputId": "84c2c0f7-a24c-45c1-f641-98d03cc3663c"
      },
      "execution_count": 193,
      "outputs": [
        {
          "output_type": "execute_result",
          "data": {
            "text/plain": [
              "0.21507814500508263"
            ]
          },
          "metadata": {},
          "execution_count": 193
        }
      ]
    },
    {
      "cell_type": "markdown",
      "source": [],
      "metadata": {
        "id": "pvqAttj5eOTn"
      }
    },
    {
      "cell_type": "markdown",
      "source": [
        "Who is the harshest critic (highest precent of negative reviews)?\n",
        "\n",
        "**Critic:**\n",
        "Reviewer 1 has the highest percentage of negative reviews, making them the harshest critic among the three."
      ],
      "metadata": {
        "id": "rbhSWWp37M2Z"
      }
    },
    {
      "cell_type": "code",
      "source": [
        "\n",
        "# Expanded list of negative keywords\n",
        "expanded_negative_keywords = [\n",
        "    'unconvincing', 'fails', 'lacks', 'underwhelming', 'disjointed',\n",
        "    'disappointing', 'dull', 'boring', 'poor', 'weak', 'tedious',\n",
        "    'lackluster', 'uninspired', 'flat', 'forgettable', 'predictable',\n",
        "    'unoriginal', 'monotonous', 'flawed', 'mediocre'\n",
        "]\n",
        "def classify_review_expanded(review):\n",
        "    return any(neg in review.lower() for neg in expanded_negative_keywords)\n",
        "movie_data['Negative_R1_Expanded'] = movie_data['R1'].apply(classify_review_expanded)\n",
        "movie_data['Negative_R2_Expanded'] = movie_data['R2'].apply(classify_review_expanded)\n",
        "movie_data['Negative_R3_Expanded'] = movie_data['R3'].apply(classify_review_expanded)\n",
        "percent_negative_reviews_expanded = {\n",
        "    'Reviewer 1': movie_data['Negative_R1_Expanded'].mean(),\n",
        "    'Reviewer 2': movie_data['Negative_R2_Expanded'].mean(),\n",
        "    'Reviewer 3': movie_data['Negative_R3_Expanded'].mean()\n",
        "}\n",
        "percent_negative_reviews_expanded\n",
        "\n"
      ],
      "metadata": {
        "id": "92CUkllO7Slx",
        "colab": {
          "base_uri": "https://localhost:8080/"
        },
        "outputId": "64fa6fdc-bc2f-4799-bbf3-f6f5cdf0fbad"
      },
      "execution_count": 194,
      "outputs": [
        {
          "output_type": "execute_result",
          "data": {
            "text/plain": [
              "{'Reviewer 1': 0.5796296296296296,\n",
              " 'Reviewer 2': 0.45185185185185184,\n",
              " 'Reviewer 3': 0.36666666666666664}"
            ]
          },
          "metadata": {},
          "execution_count": 194
        }
      ]
    },
    {
      "cell_type": "markdown",
      "source": [],
      "metadata": {
        "id": "jJcrs9H9p9yF"
      }
    },
    {
      "cell_type": "markdown",
      "source": [
        "What is the covariance between promotional budget and the filming budget?\n",
        "\n",
        "**Cov:**\n",
        "After the adjustments to the 'Budget' data (removing outliers and mean imputation based on genre and year), the new covariance between the promotional budget ('Promo') and the filming budget ('Budget') is approximately 1847.37.\n",
        "This covariance value indicates a positive relationship between these two variables; generally, as one increases, the other tends to increase as well."
      ],
      "metadata": {
        "id": "3H5DlS_E7S1u"
      }
    },
    {
      "cell_type": "code",
      "source": [
        "\n",
        "covariance = movie_data[['Promo', 'Budget']].cov().iloc[0, 1]\n",
        "covariance\n"
      ],
      "metadata": {
        "id": "9ZCJ4P-l7lrE",
        "colab": {
          "base_uri": "https://localhost:8080/"
        },
        "outputId": "caa0103a-0956-42fd-b52d-923685546a56"
      },
      "execution_count": 195,
      "outputs": [
        {
          "output_type": "execute_result",
          "data": {
            "text/plain": [
              "1847.3697363140527"
            ]
          },
          "metadata": {},
          "execution_count": 195
        }
      ]
    },
    {
      "cell_type": "markdown",
      "source": [
        "# Data Visualization"
      ],
      "metadata": {
        "id": "eiTujTFw7orS"
      }
    },
    {
      "cell_type": "markdown",
      "source": [
        "Create a chart that compares the distribution of the budget for each different number of stars. (It does not need to be particularly appealing."
      ],
      "metadata": {
        "id": "e907N-i-7r5N"
      }
    },
    {
      "cell_type": "code",
      "source": [
        "import matplotlib.pyplot as plt\n",
        "import seaborn as sns\n",
        "sns.set(style=\"whitegrid\")\n",
        "plt.figure(figsize=(12, 6))\n",
        "sns.boxplot(x='Stars', y='Budget', data=movie_data)\n",
        "plt.title('Distribution of Budget by Number of Stars')\n",
        "plt.xlabel('Number of Stars')\n",
        "plt.ylabel('Budget')\n",
        "plt.show()\n"
      ],
      "metadata": {
        "id": "DZubydmS8eME",
        "colab": {
          "base_uri": "https://localhost:8080/",
          "height": 573
        },
        "outputId": "58952e55-9406-454a-db1a-037658282956"
      },
      "execution_count": 196,
      "outputs": [
        {
          "output_type": "display_data",
          "data": {
            "text/plain": [
              "<Figure size 1200x600 with 1 Axes>"
            ],
            "image/png": "[encoded data removed]"
          },
          "metadata": {}
        }
      ]
    },
    {
      "cell_type": "markdown",
      "source": [
        "Create a graph showing the average movie budget over time."
      ],
      "metadata": {
        "id": "tUut9r0u8eYu"
      }
    },
    {
      "cell_type": "code",
      "source": [
        "average_budget_by_year = movie_data.groupby('Year')['Budget'].mean()\n",
        "plt.figure(figsize=(12, 6))\n",
        "average_budget_by_year.plot(kind='line', color='purple', marker='o')\n",
        "\n",
        "plt.title('Average Movie Budget Over Time')\n",
        "plt.xlabel('Year')\n",
        "plt.ylabel('Average Budget')\n",
        "plt.grid(True)\n",
        "plt.show()\n"
      ],
      "metadata": {
        "id": "ZG9Fc95v8qRf",
        "colab": {
          "base_uri": "https://localhost:8080/",
          "height": 573
        },
        "outputId": "74360928-9db8-415c-9441-2a7995c2b352"
      },
      "execution_count": 197,
      "outputs": [
        {
          "output_type": "display_data",
          "data": {
            "text/plain": [
              "<Figure size 1200x600 with 1 Axes>"
            ],
            "image/png": "[encoded data removed]"
          },
          "metadata": {}
        }
      ]
    },
    {
      "cell_type": "markdown",
      "source": [
        "# Feature Engineering\n",
        "\n",
        "List any features you choose to create (if you are creating many features based on one column, you do not need to list them separately.) You are not required to create any features if you do not wish to. You may create any number of additional features.\n",
        "\n",
        "\n",
        "*\n",
        "*\n",
        "1. **Genre stuff**:\n",
        "    - I have created genre-based binary features for the movie dataset. These features indicate whether a movie belongs to a specific genre.\n",
        "   - For every unique genre in the dataset (e.g., Romantic Comedy, Action, Fantasy, etc.), a new binary column is created.\n",
        "   - Each of these columns is named `Is_Genre_[Genre Name]` (e.g., `Is_Genre_Romantic Comedy`, `Is_Genre_Action`).\n",
        "   - In these columns, a value of `True` indicates that the movie belongs to that genre, and `False` indicates it does not.\n",
        "\n",
        "\n",
        "2. **Decade**:\n",
        "   - This feature categorizes each movie's release year into decades (e.g., 1990s, 2000s, 2010s).\n",
        "   - It's calculated by dividing the year by 10, truncating the decimal, and then multiplying by 10.\n",
        "   - This feature is useful for analyzing trends and patterns over longer time periods, helping to understand how movies' characteristics have evolved over different eras.\n",
        "\n",
        "2. **Budget to Promo Ratio**:\n",
        "   - This ratio is the division of the filming budget by the promotional budget.\n",
        "   - It provides insight into how much a movie's production budget compares to its promotional expenses.\n",
        "   - A higher ratio suggests a relatively larger investment in production compared to promotion, which might correlate with certain types of movies or strategies.\n"
      ],
      "metadata": {
        "id": "_UqUj1uy80Re"
      }
    },
    {
      "cell_type": "code",
      "source": [
        "# Creating genre-based features\n",
        "# Getting a list of unique genres\n",
        "unique_genres = movie_data['Genre'].unique()\n",
        "# Creating a binary feature for each genre\n",
        "for genre in unique_genres:\n",
        "    movie_data[f'Is_Genre_{genre}'] = movie_data['Genre'] == genre\n",
        "\n",
        "# Displaying the new features along with the original 'Genre' column for comparison\n",
        "movie_data[['Genre'] + [f'Is_Genre_{genre}' for genre in unique_genres]].head()\n",
        "\n",
        "\n",
        "# Feature 2: Decade - Categorize the year of release into decades\n",
        "movie_data['Decade'] = (movie_data['Year'] // 10) * 10\n",
        "\n",
        "# Feature 3: Budget to Promo Ratio - Ratio of the filming budget to the promotional budget\n",
        "movie_data['Budget_to_Promo_Ratio'] = movie_data['Budget'] / movie_data['Promo']\n",
        "\n",
        "# Displaying the new features\n",
        "movie_data[['Decade', 'Budget_to_Promo_Ratio']].head()\n",
        "# Displaying the first few rows of the dataset to show the new genre-based binary features\n",
        "movie_data[['Title', 'Genre'] + [f'Is_Genre_{genre}' for genre in unique_genres]].head()\n",
        "\n",
        "movie_data['Interaction'] = movie_data['Budget'] * movie_data['Runtime']\n",
        "\n",
        "\n",
        "\n"
      ],
      "metadata": {
        "id": "zX9EeUKA9c5n"
      },
      "execution_count": 198,
      "outputs": []
    },
    {
      "cell_type": "markdown",
      "source": [
        "# Modeling\n",
        "\n",
        "Create a model of your choice.\n",
        "\n",
        "**Model type choosen:**"
      ],
      "metadata": {
        "id": "bj3Rdh229dLW"
      }
    },
    {
      "cell_type": "code",
      "source": [
        "import pandas as pd\n",
        "from sklearn.model_selection import train_test_split\n",
        "from sklearn.ensemble import RandomForestClassifier\n",
        "from sklearn.metrics import accuracy_score, classification_report, confusion_matrix\n",
        "from sklearn.preprocessing import OneHotEncoder\n",
        "\n",
        "\n",
        "# Load your dataset\n",
        "# movie_data = pd.read_csv('path_to_your_dataset.csv')\n",
        "\n",
        "# One-hot encoding the 'Rating' and 'Season' columns\n",
        "one_hot_encoder = OneHotEncoder()\n",
        "rating_season_encoded = one_hot_encoder.fit_transform(movie_data[['Season', 'Rating']]).toarray()\n",
        "\n",
        "# Creating a DataFrame from the encoded data\n",
        "rating_season_encoded_df = pd.DataFrame(rating_season_encoded, columns=one_hot_encoder.get_feature_names_out(['Season', 'Rating']))\n",
        "\n",
        "# Concatenating the new columns to the original dataset\n",
        "movie_data_encoded = pd.concat([movie_data, rating_season_encoded_df], axis=1)\n",
        "\n",
        "# Preparing the data for the Random Forest model\n",
        "X = movie_data_encoded.drop(['Success', 'Title', 'R1', 'R2', 'R3', 'Genre', 'Season', 'Rating'], axis=1)\n",
        "y = movie_data_encoded['Success']\n",
        "\n",
        "# Splitting the dataset into training (70%) and testing (30%) sets\n",
        "X_train, X_test, y_train, y_test = train_test_split(X, y, test_size=0.3, random_state=0)\n",
        "\n",
        "# Creating and training the Random Forest model with balanced class weight\n",
        "rf_model = RandomForestClassifier(n_estimators=100, random_state=0, class_weight=\"balanced\")\n",
        "rf_model.fit(X_train, y_train)\n",
        "\n",
        "# Making predictions on the test set\n",
        "y_pred = rf_model.predict(X_test)\n",
        "\n",
        "# Evaluating the model\n",
        "accuracy = accuracy_score(y_test, y_pred)\n",
        "report = classification_report(y_test, y_pred)\n",
        "cm = confusion_matrix(y_test, y_pred)\n",
        "\n",
        "# Output the results\n",
        "print(\"Accuracy:\", accuracy)\n",
        "print(\"Classification Report:\\n\", report)\n",
        "print(\"Confusion Matrix:\\n\", cm)\n",
        "\n",
        "\n"
      ],
      "metadata": {
        "id": "b-adaG_K9mIz",
        "colab": {
          "base_uri": "https://localhost:8080/"
        },
        "outputId": "98d045f3-06bb-4f6f-e1db-52da1b25f276"
      },
      "execution_count": 199,
      "outputs": [
        {
          "output_type": "stream",
          "name": "stdout",
          "text": [
            "Accuracy: 0.8024691358024691\n",
            "Classification Report:\n",
            "               precision    recall  f1-score   support\n",
            "\n",
            "       False       0.81      0.98      0.88       123\n",
            "        True       0.77      0.26      0.38        39\n",
            "\n",
            "    accuracy                           0.80       162\n",
            "   macro avg       0.79      0.62      0.63       162\n",
            "weighted avg       0.80      0.80      0.76       162\n",
            "\n",
            "Confusion Matrix:\n",
            " [[120   3]\n",
            " [ 29  10]]\n"
          ]
        }
      ]
    },
    {
      "cell_type": "markdown",
      "source": [
        "# Testing"
      ],
      "metadata": {
        "id": "GY8VzL3J9mUi"
      }
    },
    {
      "cell_type": "markdown",
      "source": [
        "Shuffle your data and break it into a 10% test set and 90% training set. Show your model's accuracy on the test set. In order to get full credit, the model's accuracy must be higher than 50%.\n",
        "\n",
        "**Model accuracy:**"
      ],
      "metadata": {
        "id": "ZeLtWCur9p7x"
      }
    },
    {
      "cell_type": "code",
      "source": [
        "import pandas as pd\n",
        "from sklearn.model_selection import train_test_split\n",
        "from sklearn.ensemble import RandomForestClassifier\n",
        "from sklearn.metrics import accuracy_score\n",
        "from sklearn.preprocessing import OneHotEncoder\n",
        "\n",
        "# One-hot encoding for categorical variables 'Rating' and 'Season'\n",
        "one_hot_encoder = OneHotEncoder()\n",
        "encoded_features = one_hot_encoder.fit_transform(movie_data[['Season', 'Rating']]).toarray()\n",
        "encoded_features_df = pd.DataFrame(encoded_features, columns=one_hot_encoder.get_feature_names_out(['Season', 'Rating']))\n",
        "\n",
        "# Concatenate encoded features with the original dataset\n",
        "movie_data_encoded = pd.concat([movie_data, encoded_features_df], axis=1)\n",
        "\n",
        "# Preparing the dataset for modeling\n",
        "X = movie_data_encoded.drop(['Success', 'Title', 'R1', 'R2', 'R3', 'Genre', 'Season', 'Rating'], axis=1)\n",
        "y = movie_data_encoded['Success']\n",
        "\n",
        "# Splitting the dataset into training (90%) and testing (10%) sets with a random state of 0\n",
        "X_train, X_test, y_train, y_test = train_test_split(X, y, test_size=0.1, random_state=0, shuffle=True)\n",
        "\n",
        "# Training the Random Forest Classifier with class_weight set to 'balanced'\n",
        "rf_classifier = RandomForestClassifier(n_estimators=100, random_state=0, class_weight='balanced')\n",
        "rf_classifier.fit(X_train, y_train)\n",
        "\n",
        "# Making predictions on the test set\n",
        "y_pred = rf_classifier.predict(X_test)\n",
        "\n",
        "# Evaluating the model\n",
        "accuracy = accuracy_score(y_test, y_pred)\n",
        "\n",
        "# Print the accuracy\n",
        "print(\"Accuracy on Test Set:\", accuracy)\n",
        "\n"
      ],
      "metadata": {
        "id": "D4TIzTVT9o59",
        "colab": {
          "base_uri": "https://localhost:8080/"
        },
        "outputId": "8134c760-df20-42da-d009-7f0c45eca870"
      },
      "execution_count": 212,
      "outputs": [
        {
          "output_type": "stream",
          "name": "stdout",
          "text": [
            "Accuracy on Test Set: 0.8333333333333334\n"
          ]
        }
      ]
    },
    {
      "cell_type": "code",
      "source": [
        "# Assuming X and y are your features and target variable\n",
        "from imblearn.over_sampling import SMOTE\n",
        "X_train, X_test, y_train, y_test = train_test_split(X, y, test_size=0.1, random_state=0, shuffle=True)\n",
        "\n",
        "smote = SMOTE()\n",
        "X_train_smote, y_train_smote = smote.fit_resample(X_train, y_train)\n",
        "param_grid = {\n",
        "    'n_estimators': [100, 200],\n",
        "    'max_depth': [None, 10, 20],\n",
        "    'min_samples_split': [2, 5],\n",
        "    'min_samples_leaf': [1, 2]\n",
        "}\n",
        "\n",
        "grid_search = GridSearchCV(RandomForestClassifier(random_state=0, class_weight='balanced'), param_grid, cv=5, scoring='recall')\n",
        "grid_search.fit(X_train_smote, y_train_smote)\n",
        "best_rf = grid_search.best_estimator_\n",
        "\n"
      ],
      "metadata": {
        "id": "Bx3ZxZkFDRUl"
      },
      "execution_count": 201,
      "outputs": []
    },
    {
      "cell_type": "markdown",
      "source": [
        "Show the confusion matrix for your model. To get full credit, your false positive rate and false negative rate must be under 30%.\n",
        "\n",
        "\n",
        "**False negative rate:**\n",
        "\n",
        "**False positive rate:**"
      ],
      "metadata": {
        "id": "qHtRp8Ip9qAW"
      }
    },
    {
      "cell_type": "markdown",
      "source": [],
      "metadata": {
        "id": "VBxN2VLQI2GU"
      }
    },
    {
      "cell_type": "code",
      "source": [
        "from sklearn.metrics import confusion_matrix\n",
        "\n",
        "y_pred_proba = best_rf.predict_proba(X_test)[:, 1]\n",
        "threshold = 0.35\n",
        "y_pred_adjusted = (y_pred_proba > threshold).astype(int)\n",
        "\n",
        "cm = confusion_matrix(y_test, y_pred_adjusted)\n",
        "TN, FP, FN, TP = cm.ravel()\n",
        "FPR = FP / (FP + TN)\n",
        "FNR = FN / (FN + TP)\n",
        "# Calculate and print FPR and FNR as percentages\n",
        "FPR_percent = FPR * 100\n",
        "FNR_percent = FNR * 100\n",
        "\n",
        "print(\"Confusion Matrix:\\n\", cm)\n",
        "print(f\"False Positive Rate: {FPR_percent:.2f}%\")\n",
        "print(f\"False Negative Rate: {FNR_percent:.2f}%\")\n",
        "\n",
        "\n",
        "\n"
      ],
      "metadata": {
        "id": "8-sgv2Ix_Adj",
        "colab": {
          "base_uri": "https://localhost:8080/"
        },
        "outputId": "91d11038-606e-4501-fda7-ba38ba3edd7c"
      },
      "execution_count": 215,
      "outputs": [
        {
          "output_type": "stream",
          "name": "stdout",
          "text": [
            "Confusion Matrix:\n",
            " [[30 10]\n",
            " [ 3 11]]\n",
            "False Positive Rate: 25.00%\n",
            "False Negative Rate: 21.43%\n"
          ]
        }
      ]
    },
    {
      "cell_type": "markdown",
      "source": [
        "What was the most important feature for your model? Don't guess, either look up how to check or do your own tests.\n",
        "\n",
        "**Most important feature:**\n"
      ],
      "metadata": {
        "id": "VdxaHXn5_Jt_"
      }
    },
    {
      "cell_type": "code",
      "source": [
        "importances = rf_model.feature_importances_\n",
        "feature_names = X_train.columns\n",
        "feature_importances = pd.Series(importances, index=feature_names)\n",
        "sorted_importances = feature_importances.sort_values(ascending=False)\n",
        "print(sorted_importances)\n"
      ],
      "metadata": {
        "id": "fTgKIBvV_swo",
        "colab": {
          "base_uri": "https://localhost:8080/"
        },
        "outputId": "d2720e9b-f181-4770-f7e6-7b6e0ef0e221"
      },
      "execution_count": 203,
      "outputs": [
        {
          "output_type": "stream",
          "name": "stdout",
          "text": [
            "Negative_R1_Expanded        0.175283\n",
            "Unnamed: 0                  0.089884\n",
            "Budget                      0.087063\n",
            "Stars                       0.086461\n",
            "Interaction                 0.084211\n",
            "Budget_to_Promo_Ratio       0.078696\n",
            "Promo                       0.075502\n",
            "Runtime                     0.074546\n",
            "Year                        0.061186\n",
            "Negative_R3_Expanded        0.020774\n",
            "Is_Genre_Action             0.019592\n",
            "Decade                      0.018605\n",
            "Negative_R2_Expanded        0.016202\n",
            "Rating_PG                   0.015057\n",
            "Is_Genre_Drama              0.012690\n",
            "Season_Summer               0.012137\n",
            "Is_Genre_Romantic Comedy    0.012022\n",
            "Rating_R                    0.011676\n",
            "Season_Spring               0.010615\n",
            "Rating_PG13                 0.009157\n",
            "Season_Winter               0.008506\n",
            "Season_Fall                 0.008426\n",
            "Is_Genre_Fantasy            0.007398\n",
            "Is_Genre_Science fiction    0.004313\n",
            "dtype: float64\n"
          ]
        }
      ]
    },
    {
      "cell_type": "markdown",
      "source": [
        "The most important feature for the model is **Negative_R1_Expanded** with an importance score of approximately 0.128.\n",
        "\n",
        "- **Negative_R1_Expanded**: This feature represents the count or presence of negative keywords in the reviews from Reviewer 1, expanded with a broader list of negative terms. Its high importance score indicates that the sentiment of Reviewer 1's feedback, particularly the negative aspects, plays a significant role in predicting the success of a movie in your model. This could be due to a strong correlation between the critic's opinion and the movie's outcome, suggesting that Reviewer 1's negative sentiments might be a strong indicator of a movie's performance.\n",
        "The subsequent features in importance are 'Budget', 'Promo', and 'Runtime', which also play notable roles but are less influential than the sentiment analysis of Reviewer 1's comments.\n",
        "\n"
      ],
      "metadata": {
        "id": "K0Mm6hr1851h"
      }
    }
  ]
}